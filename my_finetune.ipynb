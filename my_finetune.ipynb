{
 "cells": [
  {
   "cell_type": "code",
   "execution_count": 1,
   "metadata": {},
   "outputs": [],
   "source": [
    "from __future__ import print_function, unicode_literals\n",
    "import sys\n",
    "import json\n",
    "\n",
    "sys.path.append(\".\")\n",
    "import argparse\n",
    "from tqdm import tqdm\n",
    "import torch\n",
    "import subprocess\n",
    "import numpy as np\n",
    "import os\n",
    "\n",
    "from src.models.my_wrap import Wrap_Resnet\n",
    "from src.models.unsupervised.hybrid2_model import Hybrid2Model\n",
    "from testing.fh_utils import (\n",
    "    json_load,\n",
    "    db_size,\n",
    "    get_bbox_from_pose,\n",
    "    read_img,\n",
    "    convert_order,\n",
    "    move_palm_to_wrist,\n",
    "    modify_bbox,\n",
    "    preprocess,\n",
    "    create_affine_transform_from_bbox,\n",
    ")\n",
    "\n",
    "BBOX_SCALE = 0.33\n",
    "CROP_SIZE = 224\n",
    "# DS_PATH = \"/hdd/Datasets/freihand_dataset/\"\n",
    "DS_PATH = \"/home/dlc/cll/peclr/data/raw/freihand_dataset\"\n",
    "\n",
    "from pprint import pformat\n",
    "from easydict import EasyDict as edict\n",
    "from pytorch_lightning import Trainer, seed_everything\n",
    "from pytorch_lightning.loggers import CometLogger\n",
    "from src.constants import (\n",
    "    COMET_KWARGS,\n",
    "    HYBRID2_CONFIG,\n",
    "    SIMCLR_CONFIG ,\n",
    "    BASE_DIR,\n",
    "    TRAINING_CONFIG_PATH,\n",
    ")\n",
    "from src.data_loader.data_set_cbg import Data_Set\n",
    "from src.data_loader.utils import get_data_cbg, get_train_val_split\n",
    "\n",
    "from src.experiments.utils import (\n",
    "    get_callbacks,\n",
    "    get_general_args,\n",
    "    get_model,\n",
    "    prepare_name,\n",
    "    save_experiment_key,\n",
    "    update_model_params,\n",
    "    update_train_params,\n",
    ")\n",
    "from src.utils import get_console_logger, read_json"
   ]
  },
  {
   "cell_type": "code",
   "execution_count": 8,
   "metadata": {},
   "outputs": [
    {
     "ename": "AttributeError",
     "evalue": "'list' object has no attribute 'train_ratio'",
     "output_type": "error",
     "traceback": [
      "\u001b[0;31m---------------------------------------------------------------------------\u001b[0m",
      "\u001b[0;31mAttributeError\u001b[0m                            Traceback (most recent call last)",
      "\u001b[0;32m<ipython-input-8-b48639468a0d>\u001b[0m in \u001b[0;36m<module>\u001b[0;34m\u001b[0m\n\u001b[1;32m     26\u001b[0m \u001b[0;31m# args = get_general_args(\"Simclr model training script.\")\u001b[0m\u001b[0;34m\u001b[0m\u001b[0;34m\u001b[0m\u001b[0;34m\u001b[0m\u001b[0m\n\u001b[1;32m     27\u001b[0m \u001b[0mtrain_param\u001b[0m \u001b[0;34m=\u001b[0m \u001b[0medict\u001b[0m\u001b[0;34m(\u001b[0m\u001b[0mread_json\u001b[0m\u001b[0;34m(\u001b[0m\u001b[0mTRAINING_CONFIG_PATH\u001b[0m\u001b[0;34m)\u001b[0m\u001b[0;34m)\u001b[0m\u001b[0;34m\u001b[0m\u001b[0;34m\u001b[0m\u001b[0m\n\u001b[0;32m---> 28\u001b[0;31m \u001b[0mtrain_param\u001b[0m \u001b[0;34m=\u001b[0m \u001b[0mupdate_train_params\u001b[0m\u001b[0;34m(\u001b[0m\u001b[0margs\u001b[0m\u001b[0;34m,\u001b[0m \u001b[0mtrain_param\u001b[0m\u001b[0;34m)\u001b[0m\u001b[0;34m\u001b[0m\u001b[0;34m\u001b[0m\u001b[0m\n\u001b[0m\u001b[1;32m     29\u001b[0m \u001b[0;31m# model_param_path = SIMCLR_CONFIG\u001b[0m\u001b[0;34m\u001b[0m\u001b[0;34m\u001b[0m\u001b[0;34m\u001b[0m\u001b[0m\n\u001b[1;32m     30\u001b[0m \u001b[0mmodel_param_path\u001b[0m \u001b[0;34m=\u001b[0m \u001b[0mHYBRID2_CONFIG\u001b[0m  \u001b[0;31m# SIMCLR_CONFIG\u001b[0m\u001b[0;34m\u001b[0m\u001b[0;34m\u001b[0m\u001b[0m\n",
      "\u001b[0;32m~/cll/code/peclr_cbg/src/experiments/utils.py\u001b[0m in \u001b[0;36mupdate_train_params\u001b[0;34m(args, train_param)\u001b[0m\n\u001b[1;32m    284\u001b[0m         \u001b[0medict\u001b[0m\u001b[0;34m:\u001b[0m \u001b[0mUpdated\u001b[0m \u001b[0mtraining\u001b[0m \u001b[0mparameters\u001b[0m\u001b[0;34m.\u001b[0m\u001b[0;34m\u001b[0m\u001b[0;34m\u001b[0m\u001b[0m\n\u001b[1;32m    285\u001b[0m     \"\"\"\n\u001b[0;32m--> 286\u001b[0;31m     \u001b[0;32mif\u001b[0m \u001b[0margs\u001b[0m\u001b[0;34m.\u001b[0m\u001b[0mtrain_ratio\u001b[0m \u001b[0;32mis\u001b[0m \u001b[0;32mnot\u001b[0m \u001b[0;32mNone\u001b[0m\u001b[0;34m:\u001b[0m\u001b[0;34m\u001b[0m\u001b[0;34m\u001b[0m\u001b[0m\n\u001b[0m\u001b[1;32m    287\u001b[0m         \u001b[0mtrain_param\u001b[0m\u001b[0;34m.\u001b[0m\u001b[0mtrain_ratio\u001b[0m \u001b[0;34m=\u001b[0m \u001b[0;34m(\u001b[0m\u001b[0margs\u001b[0m\u001b[0;34m.\u001b[0m\u001b[0mtrain_ratio\u001b[0m \u001b[0;34m*\u001b[0m \u001b[0;36m100\u001b[0m \u001b[0;34m%\u001b[0m \u001b[0;36m100\u001b[0m\u001b[0;34m)\u001b[0m \u001b[0;34m/\u001b[0m \u001b[0;36m100.0\u001b[0m\u001b[0;34m\u001b[0m\u001b[0;34m\u001b[0m\u001b[0m\n\u001b[1;32m    288\u001b[0m     train_param.update(\n",
      "\u001b[0;31mAttributeError\u001b[0m: 'list' object has no attribute 'train_ratio'"
     ]
    }
   ],
   "source": [
    "experiment_type = \"hybrid2\"\n",
    "# experiment_type = \"simclr\"\n",
    "console_logger = get_console_logger(__name__)\n",
    "args=[ \n",
    "                \"--color_jitter\",\n",
    "                \"--random_crop\",\n",
    "                \"--rotate\", \n",
    "                \"--crop\",\n",
    "                \"-resnet_size\", \"50\",  \n",
    "                \"-sources\", \"freihand\", \n",
    "                \"--resize\",   \n",
    "                \"-epochs\", \"500\", \n",
    "                \"-batch_size\",\"128\",  \n",
    "                \"-accumulate_grad_batches\", \"16\", \n",
    "                \"-save_top_k\", \"1\",  \n",
    "                \"-save_period\", \"1\",   \n",
    "                \"-num_workers\", \"8\"\n",
    "                # // \"-d\", \"./kodim\",\n",
    "                # // \"--epochs\",\"300\", \n",
    "                # // \"-lr\", \"1e-4\", \n",
    "                # // \"--batch-size\", \"1\",\n",
    "                # // \"--cuda\", \"--save\",\n",
    "                # // \"--test-batch-size\", \"1\"\n",
    "            ]\n",
    "# get_general_args(\"Hybrid model 2 training script.\")\n",
    "# args = get_general_args(\"Simclr model training script.\")\n",
    "train_param = edict(read_json(TRAINING_CONFIG_PATH))\n",
    "train_param = update_train_params(args, train_param)\n",
    "# model_param_path = SIMCLR_CONFIG\n",
    "model_param_path = HYBRID2_CONFIG  # SIMCLR_CONFIG\n",
    "model_param = edict(read_json(model_param_path))\n",
    "console_logger.info(f\"Train parameters {pformat(train_param)}\")\n",
    "seed_everything(train_param.seed)\n",
    "data = get_data_cbg(\n",
    "        Data_Set, train_param, sources=args.sources, experiment_type=experiment_type\n",
    "    )\n",
    "model_param = update_model_params(model_param, args, len(data), train_param)\n",
    "model_param.augmentation = [\n",
    "key for key, value in train_param.augmentation_flags.items() if value\n",
    "]\n",
    "console_logger.info(f\"Model parameters {pformat(model_param)}\")\n",
    "model = get_model(\n",
    "experiment_type=\"hybrid2\",#\"simclr\"\n",
    "heatmap_flag=args.heatmap,\n",
    "denoiser_flag=args.denoiser,\n",
    ")(config=model_param)\n",
    "model=Hybrid2Model(config=model_param)"
   ]
  },
  {
   "cell_type": "code",
   "execution_count": 10,
   "metadata": {},
   "outputs": [
    {
     "ename": "NameError",
     "evalue": "name 'model_param' is not defined",
     "output_type": "error",
     "traceback": [
      "\u001b[0;31m---------------------------------------------------------------------------\u001b[0m",
      "\u001b[0;31mNameError\u001b[0m                                 Traceback (most recent call last)",
      "\u001b[0;32m<ipython-input-10-1b720079efbb>\u001b[0m in \u001b[0;36m<module>\u001b[0;34m\u001b[0m\n\u001b[1;32m      2\u001b[0m \u001b[0mdev\u001b[0m \u001b[0;34m=\u001b[0m \u001b[0mtorch\u001b[0m\u001b[0;34m.\u001b[0m\u001b[0mdevice\u001b[0m\u001b[0;34m(\u001b[0m\u001b[0;34m\"cuda\"\u001b[0m\u001b[0;34m)\u001b[0m\u001b[0;34m\u001b[0m\u001b[0;34m\u001b[0m\u001b[0m\n\u001b[1;32m      3\u001b[0m \u001b[0mcheckpoint\u001b[0m\u001b[0;34m=\u001b[0m\u001b[0mtorch\u001b[0m\u001b[0;34m.\u001b[0m\u001b[0mload\u001b[0m\u001b[0;34m(\u001b[0m\u001b[0mmodel_path\u001b[0m\u001b[0;34m)\u001b[0m\u001b[0;34m\u001b[0m\u001b[0;34m\u001b[0m\u001b[0m\n\u001b[0;32m----> 4\u001b[0;31m \u001b[0mmodel\u001b[0m\u001b[0;34m=\u001b[0m\u001b[0mHybrid2Model\u001b[0m\u001b[0;34m(\u001b[0m\u001b[0mconfig\u001b[0m\u001b[0;34m=\u001b[0m\u001b[0mmodel_param\u001b[0m\u001b[0;34m)\u001b[0m\u001b[0;34m\u001b[0m\u001b[0;34m\u001b[0m\u001b[0m\n\u001b[0m\u001b[1;32m      5\u001b[0m \u001b[0mmodel\u001b[0m\u001b[0;34m.\u001b[0m\u001b[0mload_state_dict\u001b[0m\u001b[0;34m(\u001b[0m\u001b[0mcheckpoint\u001b[0m\u001b[0;34m[\u001b[0m\u001b[0;34m'state_dict'\u001b[0m\u001b[0;34m]\u001b[0m\u001b[0;34m)\u001b[0m\u001b[0;34m\u001b[0m\u001b[0;34m\u001b[0m\u001b[0m\n",
      "\u001b[0;31mNameError\u001b[0m: name 'model_param' is not defined"
     ]
    }
   ],
   "source": [
    "model_path = '/home/zlc/cll/code/peclr_cbg/data/models/hybrid2-frei-bs256/epoch=286.ckpt'\n",
    "dev = torch.device(\"cuda\")\n",
    "checkpoint=torch.load(model_path)\n",
    "model=Hybrid2Model(config=model_param)\n",
    "model.load_state_dict(checkpoint['state_dict'])"
   ]
  },
  {
   "cell_type": "code",
   "execution_count": 5,
   "metadata": {},
   "outputs": [
    {
     "data": {
      "text/plain": [
       "dict_keys(['epoch', 'global_step', 'pytorch-lightning_version', 'callbacks', 'optimizer_states', 'lr_schedulers', 'native_amp_scaling_state', 'state_dict'])"
      ]
     },
     "execution_count": 5,
     "metadata": {},
     "output_type": "execute_result"
    }
   ],
   "source": [
    "checkpoint.keys()"
   ]
  },
  {
   "cell_type": "code",
   "execution_count": 6,
   "metadata": {},
   "outputs": [
    {
     "data": {
      "text/plain": [
       "{src.models.callbacks.model_checkpoint.UpdatedModelCheckpoint: {'best_model_score': tensor(4.2962, device='cuda:1'),\n",
       "  'best_model_path': '/home/zlc/cll/code/peclr_cbg/data/models/hybrid2-frei-bs256/43e469c718b94cbb870c593209820b72/checkpoints/epoch=286.ckpt'}}"
      ]
     },
     "execution_count": 6,
     "metadata": {},
     "output_type": "execute_result"
    }
   ],
   "source": [
    "checkpoint['callbacks']"
   ]
  }
 ],
 "metadata": {
  "interpreter": {
   "hash": "79cf7b85a77b23dc9e8bd0139d5ceb9f2244c61f0daea884de3145e391c0129b"
  },
  "kernelspec": {
   "display_name": "Python 3.8.10 ('cll_peclr')",
   "language": "python",
   "name": "python3"
  },
  "language_info": {
   "codemirror_mode": {
    "name": "ipython",
    "version": 3
   },
   "file_extension": ".py",
   "mimetype": "text/x-python",
   "name": "python",
   "nbconvert_exporter": "python",
   "pygments_lexer": "ipython3",
   "version": "3.8.10"
  },
  "orig_nbformat": 4
 },
 "nbformat": 4,
 "nbformat_minor": 2
}
